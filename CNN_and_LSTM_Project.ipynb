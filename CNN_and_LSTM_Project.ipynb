{
  "cells": [
    {
      "cell_type": "code",
      "source": [
        "from google.colab import drive\n",
        "drive.mount('/content/drive')"
      ],
      "metadata": {
        "colab": {
          "base_uri": "https://localhost:8080/"
        },
        "id": "dsbnUkzKQcrg",
        "outputId": "5918eaa4-2b2a-476f-fc4b-1d53794c9811"
      },
      "execution_count": null,
      "outputs": [
        {
          "output_type": "stream",
          "name": "stdout",
          "text": [
            "Mounted at /content/drive\n"
          ]
        }
      ]
    },
    {
      "cell_type": "code",
      "source": [
        "import sys\n",
        "sys.path.append('/content/drive/MyDrive/Colab Notebooks/Data/')"
      ],
      "metadata": {
        "id": "gUNFbcegRFAO"
      },
      "execution_count": null,
      "outputs": []
    },
    {
      "cell_type": "markdown",
      "source": [
        "# Package Importing"
      ],
      "metadata": {
        "id": "OxfbbnTJfzM8"
      }
    },
    {
      "cell_type": "code",
      "execution_count": null,
      "metadata": {
        "collapsed": true,
        "id": "pocNIFwZQTmS"
      },
      "outputs": [],
      "source": [
        "import tensorflow as tf                  # TensorFlow\n",
        "import tensorflow.nn as nn               # nn contains useful neural network functions like softmax, relu, tanh\n",
        "from tensorflow import keras             # high level API for TensorFlow\n",
        "import tensorflow.keras.layers as layers # contains layers like RNN, CNN, LSTM\n",
        "from keras.utils import to_categorical\n",
        "from tensorflow.keras.callbacks import LearningRateScheduler\n",
        "from keras import regularizers\n",
        "from keras.callbacks import EarlyStopping\n",
        "\n",
        "import numpy as np\n",
        "import matplotlib.pyplot as plt\n",
        "from sklearn.model_selection import train_test_split"
      ]
    },
    {
      "cell_type": "markdown",
      "source": [
        "#EDA - Exploratory data analysis"
      ],
      "metadata": {
        "id": "pu3X9FGufscb"
      }
    },
    {
      "cell_type": "markdown",
      "source": [
        "### Data Loading"
      ],
      "metadata": {
        "id": "e6RnTWEvf_hc"
      }
    },
    {
      "cell_type": "code",
      "execution_count": null,
      "metadata": {
        "collapsed": true,
        "id": "nIammTprQTmU",
        "colab": {
          "base_uri": "https://localhost:8080/"
        },
        "outputId": "0128783f-b2de-47dc-f584-e9eafde12299"
      },
      "outputs": [
        {
          "output_type": "stream",
          "name": "stdout",
          "text": [
            "Training/Valid data shape: (2115, 22, 1000)\n",
            "Training/Valid target shape: (2115,)\n",
            "Test data shape: (443, 22, 1000)\n",
            "Test target shape: (443,)\n",
            "Person train/valid shape: (2115, 1)\n",
            "Person test shape: (443, 1)\n"
          ]
        }
      ],
      "source": [
        "X_train_valid = np.load(\"/content/drive/MyDrive/Colab Notebooks/Data/EEG/X_train_valid.npy\")\n",
        "y_train_valid = np.load(\"/content/drive/MyDrive/Colab Notebooks/Data/EEG/y_train_valid.npy\")\n",
        "X_test = np.load(\"/content/drive/MyDrive/Colab Notebooks/Data/EEG/X_test.npy\")\n",
        "y_test = np.load(\"/content/drive/MyDrive/Colab Notebooks/Data/EEG/y_test.npy\")\n",
        "person_train_valid = np.load(\"/content/drive/MyDrive/Colab Notebooks/Data/EEG/person_train_valid.npy\")\n",
        "person_test = np.load(\"/content/drive/MyDrive/Colab Notebooks/Data/EEG/person_test.npy\")\n",
        "\n",
        "print (f'Training/Valid data shape: {X_train_valid.shape}')\n",
        "print (f'Training/Valid target shape: {y_train_valid.shape}')\n",
        "print (f'Test data shape: {X_test.shape}')\n",
        "print (f'Test target shape: {y_test.shape}')\n",
        "print (f'Person train/valid shape: {person_train_valid.shape}')\n",
        "print (f'Person test shape: {person_test.shape}')"
      ]
    },
    {
      "cell_type": "markdown",
      "source": [
        "### Data Visulazation"
      ],
      "metadata": {
        "id": "sDCpX6rggEsL"
      }
    },
    {
      "cell_type": "code",
      "source": [
        "# Assign labels to the data\n",
        "# re-assign labels to be between 0 and 3\n",
        "y_train_valid[y_train_valid==769] = 0  # cue onset left\n",
        "y_train_valid[y_train_valid==770] = 1  # cue onset right\n",
        "y_train_valid[y_train_valid==771] = 2  # cue onset foot\n",
        "y_train_valid[y_train_valid==772] = 3  # cue onset tongue\n",
        "\n",
        "y_test[y_test==769] = 0  # cue onset left\n",
        "y_test[y_test==770] = 1  # cue onset right\n",
        "y_test[y_test==771] = 2  # cue onset foot\n",
        "y_test[y_test==772] = 3  # cue onset tongue\n",
        "\n",
        "ch_data = X_train_valid[:,5,:] # extracts the 6th channel from the data\n",
        "\n",
        "class_0_ind = np.where(y_train_valid == 0) # finds the indices where the label is 0\n",
        "ch_data_class_0 = ch_data[class_0_ind] # finds the data where label is 0\n",
        "avg_ch_data_class_0 = np.mean(ch_data_class_0,axis=0) # finds the average representation of the 9th channel when label is 0\n",
        "\n",
        "\n",
        "class_1_ind = np.where(y_train_valid == 1)\n",
        "ch_data_class_1 = ch_data[class_1_ind]\n",
        "avg_ch_data_class_1 = np.mean(ch_data_class_1,axis=0)\n",
        "\n",
        "class_2_ind = np.where(y_train_valid == 2)\n",
        "ch_data_class_2 = ch_data[class_2_ind]\n",
        "avg_ch_data_class_2 = np.mean(ch_data_class_2,axis=0)\n",
        "\n",
        "class_3_ind = np.where(y_train_valid == 3)\n",
        "ch_data_class_3 = ch_data[class_3_ind]\n",
        "avg_ch_data_class_3 = np.mean(ch_data_class_3,axis=0)\n",
        "\n",
        "\n",
        "plt.figure(figsize=(10, 5))\n",
        "plt.plot(np.arange(1000),avg_ch_data_class_0)\n",
        "plt.plot(np.arange(1000),avg_ch_data_class_1)\n",
        "plt.plot(np.arange(1000),avg_ch_data_class_2)\n",
        "plt.plot(np.arange(1000),avg_ch_data_class_3)\n",
        "plt.axvline(x=500, label='line at t=500',c='cyan')\n",
        "\n",
        "plt.legend([\"Cue Onset left\", \"Cue Onset right\", \"Cue onset foot\", \"Cue onset tongue\"])"
      ],
      "metadata": {
        "colab": {
          "base_uri": "https://localhost:8080/",
          "height": 338
        },
        "id": "CR4VT3uh0vY6",
        "outputId": "8c16e371-43d8-4d70-a0b8-44c0ae7b1785"
      },
      "execution_count": null,
      "outputs": [
        {
          "output_type": "execute_result",
          "data": {
            "text/plain": [
              "<matplotlib.legend.Legend at 0x7f7a544703d0>"
            ]
          },
          "metadata": {},
          "execution_count": 5
        },
        {
          "output_type": "display_data",
          "data": {
            "text/plain": [
              "<Figure size 720x360 with 1 Axes>"
            ],
            "image/png": "[encoded data removed]"
          },
          "metadata": {
            "needs_background": "light"
          }
        }
      ]
    },
    {
      "cell_type": "markdown",
      "source": [
        "### Data Augmentation and Data Splitting"
      ],
      "metadata": {
        "id": "KmP23-ISgKvH"
      }
    },
    {
      "cell_type": "code",
      "execution_count": null,
      "metadata": {
        "id": "aZZL7jE5oxT_"
      },
      "outputs": [],
      "source": [
        "def data_prep(X,y,sub_sample,average,noise):\n",
        "    \n",
        "    total_X = None\n",
        "    total_y = None\n",
        "    \n",
        "    # Trimming the data (2115,22,1000) -> (2115,22,500)\n",
        "    X = X[:,:,0:500]\n",
        "    \n",
        "    # Maxpooling the data (2115,22,500) -> (2115,22,500/(sub_sample=2))\n",
        "    X_max = np.max(X.reshape(X.shape[0], X.shape[1], -1, sub_sample), axis=3)\n",
        "        \n",
        "    # Averaging + noise, size (2115,22,500) -> (2115,22,500/(average=2))\n",
        "    X_average = np.mean(X.reshape(X.shape[0], X.shape[1], -1, average),axis=3)\n",
        "    X_average = X_average + np.random.normal(0.0, 0.5, X_average.shape)\n",
        "    \n",
        "    total_X = np.vstack((X_max, X_average))\n",
        "    total_y = np.hstack((y, y))\n",
        "    \n",
        "    # Subsampling    \n",
        "    for i in range(sub_sample):        \n",
        "        X_subsample = X[:, :, i::sub_sample] + \\\n",
        "                  (np.random.normal(0.0, 0.5, X[:, :,i::sub_sample].shape) if noise else 0.0)\n",
        "            \n",
        "        total_X = np.vstack((total_X, X_subsample))\n",
        "        total_y = np.hstack((total_y, y))\n",
        "            \n",
        "    return total_X,total_y"
      ]
    },
    {
      "cell_type": "code",
      "execution_count": null,
      "metadata": {
        "id": "aZe_nkeGoxUA",
        "outputId": "5c007a48-b01f-4eec-b121-fa6f1e73bc50",
        "colab": {
          "base_uri": "https://localhost:8080/"
        }
      },
      "outputs": [
        {
          "output_type": "stream",
          "name": "stdout",
          "text": [
            "Training data shape after Preprocessing: (7168, 22, 250)\n",
            "Training target shape after Preprocessing: (7168,)\n",
            "Valid data shape after Preprocessing: (1292, 22, 250)\n",
            "Valid target shape after Preprocessing: (1292,)\n",
            "Testing data shape after Preprocessing: (1772, 22, 250)\n",
            "Testing target shape after Preprocessing: (1772,)\n"
          ]
        }
      ],
      "source": [
        "# split the training and validation\n",
        "# Creating the training and validation sets using the generated indices\n",
        "np.random.seed(12345)\n",
        "ind_valid = np.random.choice(2115, 323, replace=False)\n",
        "ind_train = np.array(list(set(range(2115)).difference(set(ind_valid))))\n",
        "(X_train_split, X_valid_split) = X_train_valid[ind_train], X_train_valid[ind_valid] \n",
        "(y_train_split, y_valid_split) = y_train_valid[ind_train], y_train_valid[ind_valid]\n",
        "\n",
        "# Preprocessing the dataset\n",
        "X_train_prep, y_train_prep = data_prep(X_train_split,y_train_split,2,2,True)\n",
        "X_valid_prep, y_valid_prep = data_prep(X_valid_split,y_valid_split,2,2,True)\n",
        "X_test_prep, y_test_prep = data_prep(X_test,y_test,2,2,True)\n",
        "\n",
        "\n",
        "print(f'Training data shape after Preprocessing: {X_train_prep.shape}')\n",
        "print(f'Training target shape after Preprocessing: {y_train_prep.shape}')\n",
        "\n",
        "print(f'Valid data shape after Preprocessing: {X_valid_prep.shape}')\n",
        "print(f'Valid target shape after Preprocessing: {y_valid_prep.shape}')\n",
        "\n",
        "print(f'Testing data shape after Preprocessing: {X_test_prep.shape}')\n",
        "print(f'Testing target shape after Preprocessing: {y_test_prep.shape}')"
      ]
    },
    {
      "cell_type": "markdown",
      "source": [
        "## Data Preprocessing "
      ],
      "metadata": {
        "id": "7Wyb7tGS2AHp"
      }
    },
    {
      "cell_type": "code",
      "source": [
        "# Converting the labels to categorical variables for multiclass classification\n",
        "y_train_ready = to_categorical(y_train_prep, 4)\n",
        "y_valid_ready = to_categorical(y_valid_prep, 4)\n",
        "y_test_ready = to_categorical(y_test_prep, 4)\n",
        "print('Training target shape after categorical conversion:',y_train_ready.shape)\n",
        "print('Valid target shape after categorical conversion:',y_valid_ready.shape)\n",
        "print('Testing target shape after categorical conversion:',y_test_ready.shape)"
      ],
      "metadata": {
        "colab": {
          "base_uri": "https://localhost:8080/"
        },
        "id": "p2WUQ18N_XE9",
        "outputId": "ee0bc375-bf97-4517-e443-6489be0ddeb0"
      },
      "execution_count": null,
      "outputs": [
        {
          "output_type": "stream",
          "name": "stdout",
          "text": [
            "Training target shape after categorical conversion: (7168, 4)\n",
            "Valid target shape after categorical conversion: (1292, 4)\n",
            "Testing target shape after categorical conversion: (1772, 4)\n"
          ]
        }
      ]
    },
    {
      "cell_type": "code",
      "source": [
        "# add extra dimension for grayscale images\n",
        "X_train_grayscale = np.expand_dims(X_train_prep, axis=-1)\n",
        "X_valid_grayscale = np.expand_dims(X_valid_prep, axis=-1)\n",
        "X_test_grayscale = np.expand_dims(X_test_prep, axis=-1)\n",
        "\n",
        "print(f'Training data shape for grayscale images: {X_train_grayscale.shape}')\n",
        "print(f'Validation data shape for grayscale images: {X_valid_grayscale.shape}')\n",
        "print(f'Testing data shape for grayscale images: {X_test_grayscale.shape}')\n",
        "\n",
        "# rearange input dimensions\n",
        "# model expects (batch, seq, features(channels)) but currently we have (batch, features(channels), seq)\n",
        "X_train_transpose = np.transpose(X_train_grayscale, (0, 2, 3, 1))\n",
        "X_valid_transpose = np.transpose(X_valid_grayscale, (0, 2, 3, 1))\n",
        "X_test_transpose = np.transpose(X_test_grayscale, (0, 2, 3, 1))\n",
        "\n",
        "print(f\"Training data shape after rearange: {X_train_transpose.shape}\")\n",
        "print(f\"Valid data shape after rearange: {X_valid_transpose.shape}\")\n",
        "print(f\"Testing data shape after rearange: {X_test_transpose.shape}\")\n",
        "\n",
        "# construct the dataset from the NumPy arrays\n",
        "X_y_t = tf.data.Dataset.from_tensor_slices((X_train_transpose, y_train_ready))\n",
        "X_y_v = tf.data.Dataset.from_tensor_slices((X_valid_transpose, y_valid_ready))\n",
        "X_y_te = tf.data.Dataset.from_tensor_slices((X_test_transpose, y_test_ready))"
      ],
      "metadata": {
        "colab": {
          "base_uri": "https://localhost:8080/"
        },
        "id": "hpISBmKZ_h9M",
        "outputId": "bc32e93e-e6ae-448a-defd-6b298a02f9d5"
      },
      "execution_count": null,
      "outputs": [
        {
          "output_type": "stream",
          "name": "stdout",
          "text": [
            "Training data shape for grayscale images: (7168, 22, 250, 1)\n",
            "Validation data shape for grayscale images: (1292, 22, 250, 1)\n",
            "Testing data shape for grayscale images: (1772, 22, 250, 1)\n",
            "Training data shape after rearange: (7168, 250, 1, 22)\n",
            "Valid data shape after rearange: (1292, 250, 1, 22)\n",
            "Testing data shape after rearange: (1772, 250, 1, 22)\n"
          ]
        }
      ]
    },
    {
      "cell_type": "code",
      "source": [
        "# batch and shuffle\n",
        "X_y_train = X_y_t.shuffle(1024).batch(128)\n",
        "X_y_valid = X_y_v.shuffle(1024).batch(128)\n",
        "X_y_test = X_y_te.shuffle(1024).batch(128)"
      ],
      "metadata": {
        "id": "oAU7kJr6Q_bz"
      },
      "execution_count": null,
      "outputs": []
    },
    {
      "cell_type": "markdown",
      "source": [
        "# Building the model - CNN and LSTM Hybird Architecture"
      ],
      "metadata": {
        "id": "KOHJ3Hb_h4Am"
      }
    },
    {
      "cell_type": "code",
      "execution_count": null,
      "metadata": {
        "id": "5dmdAtXbz3aY",
        "colab": {
          "base_uri": "https://localhost:8080/"
        },
        "outputId": "1c7a5efc-3894-4d62-823f-d1c856e4f0da"
      },
      "outputs": [
        {
          "output_type": "stream",
          "name": "stderr",
          "text": [
            "WARNING:tensorflow:Layer LSTM will not use cuDNN kernels since it doesn't meet the criteria. It will use a generic GPU kernel as fallback when running on GPU.\n"
          ]
        },
        {
          "output_type": "stream",
          "name": "stdout",
          "text": [
            "Model: \"sequential\"\n",
            "_________________________________________________________________\n",
            " Layer (type)                Output Shape              Param #   \n",
            "=================================================================\n",
            " conv1 (Conv2D)              (None, 250, 1, 25)        5525      \n",
            "                                                                 \n",
            " max_pooling2d (MaxPooling2D  (None, 84, 1, 25)        0         \n",
            " )                                                               \n",
            "                                                                 \n",
            " batch_normalization (BatchN  (None, 84, 1, 25)        100       \n",
            " ormalization)                                                   \n",
            "                                                                 \n",
            " dropout (Dropout)           (None, 84, 1, 25)         0         \n",
            "                                                                 \n",
            " conv2 (Conv2D)              (None, 84, 1, 50)         12550     \n",
            "                                                                 \n",
            " max_pooling2d_1 (MaxPooling  (None, 28, 1, 50)        0         \n",
            " 2D)                                                             \n",
            "                                                                 \n",
            " batch_normalization_1 (Batc  (None, 28, 1, 50)        200       \n",
            " hNormalization)                                                 \n",
            "                                                                 \n",
            " dropout_1 (Dropout)         (None, 28, 1, 50)         0         \n",
            "                                                                 \n",
            " conv3 (Conv2D)              (None, 28, 1, 100)        50100     \n",
            "                                                                 \n",
            " average_pooling2d (AverageP  (None, 10, 1, 100)       0         \n",
            " ooling2D)                                                       \n",
            "                                                                 \n",
            " batch_normalization_2 (Batc  (None, 10, 1, 100)       400       \n",
            " hNormalization)                                                 \n",
            "                                                                 \n",
            " dropout_2 (Dropout)         (None, 10, 1, 100)        0         \n",
            "                                                                 \n",
            " flatten (Flatten)           (None, 1000)              0         \n",
            "                                                                 \n",
            " dense (Dense)               (None, 50)                50050     \n",
            "                                                                 \n",
            " reshape (Reshape)           (None, 50, 1)             0         \n",
            "                                                                 \n",
            " LSTM (LSTM)                 (None, 10)                480       \n",
            "                                                                 \n",
            " dense_1 (Dense)             (None, 4)                 44        \n",
            "                                                                 \n",
            "=================================================================\n",
            "Total params: 119,449\n",
            "Trainable params: 119,099\n",
            "Non-trainable params: 350\n",
            "_________________________________________________________________\n"
          ]
        }
      ],
      "source": [
        "# Building the sequential class\n",
        "CNN_LSTM_Hybrid = keras.Sequential()\n",
        "\n",
        "# Conv. block 1\n",
        "CNN_LSTM_Hybrid.add(layers.Conv2D(filters=25, kernel_size=(10,1), padding='same', activation='elu', \n",
        "                    input_shape=(250,1,22), kernel_regularizer=regularizers.l2(0.01), name='conv1'))\n",
        "CNN_LSTM_Hybrid.add(layers.MaxPooling2D(pool_size=(3,1), padding='same'))\n",
        "CNN_LSTM_Hybrid.add(layers.BatchNormalization())\n",
        "CNN_LSTM_Hybrid.add(layers.Dropout(0.4))\n",
        "\n",
        "# Conv. block 2\n",
        "CNN_LSTM_Hybrid.add(layers.Conv2D(filters=50, kernel_size=(10,1), padding='same', activation='elu',\n",
        "                 kernel_regularizer=regularizers.l2(0.01), name='conv2'))\n",
        "CNN_LSTM_Hybrid.add(layers.MaxPooling2D(pool_size=(3,1), padding='same'))\n",
        "CNN_LSTM_Hybrid.add(layers.BatchNormalization())\n",
        "CNN_LSTM_Hybrid.add(layers.Dropout(0.4))\n",
        "\n",
        "# Conv. block 3\n",
        "CNN_LSTM_Hybrid.add(layers.Conv2D(filters=100, kernel_size=(10,1), padding='same', activation='elu',\n",
        "                 kernel_regularizer=regularizers.l2(0.01), name='conv3'))\n",
        "CNN_LSTM_Hybrid.add(layers.AveragePooling2D(pool_size=(3,1), padding='same'))\n",
        "CNN_LSTM_Hybrid.add(layers.BatchNormalization())\n",
        "CNN_LSTM_Hybrid.add(layers.Dropout(0.4))\n",
        "\n",
        "# LSTM block \n",
        "CNN_LSTM_Hybrid.add(layers.Flatten())\n",
        "CNN_LSTM_Hybrid.add(layers.Dense((50)))\n",
        "CNN_LSTM_Hybrid.add(layers.Reshape((50,1)))\n",
        "CNN_LSTM_Hybrid.add(layers.LSTM(10, dropout=0.5, recurrent_dropout=0.5, input_shape=(50,1),\n",
        "                  return_sequences = False, name='LSTM'))\n",
        "\n",
        "\n",
        "# Output layer with Softmax activation\n",
        "#CNN_LSTM_Hybrid.add(keras.layers.Flatten()) # Flattens the input\n",
        "CNN_LSTM_Hybrid.add(keras.layers.Dense(4, activation='softmax')) # Output FC layer with softmax activation\n",
        "\n",
        "\n",
        "# Printing the model summary\n",
        "CNN_LSTM_Hybrid.summary()"
      ]
    },
    {
      "cell_type": "markdown",
      "source": [
        "# Model Training and Evaluation"
      ],
      "metadata": {
        "id": "Y18-oizi2Rgs"
      }
    },
    {
      "cell_type": "code",
      "source": [
        "#early_stopping = EarlyStopping(monitor='val_loss', patience=10)\n",
        "#early_stopping\n",
        "# Chose Adam as optimizer with annealing learning rate\n",
        "opt = keras.optimizers.Adam(learning_rate=0.001, use_ema = True, ema_momentum=0.95)\n",
        "lr_callback = tf.keras.callbacks.ReduceLROnPlateau(patience=10, factor=0.5)\n",
        "\n",
        "# Computes the crossentropy loss between the labels and predictions.\n",
        "loss_fn = keras.losses.CategoricalCrossentropy()\n",
        "\n",
        "# Compiling the model\n",
        "CNN_LSTM_Hybrid.compile(loss=loss_fn, optimizer=opt, metrics=['accuracy'])\n",
        "\n",
        "# Training and validating the model\n",
        "CNN_LSTM_Hybrid_results = CNN_LSTM_Hybrid.fit(x=X_y_train, validation_data=X_y_valid,\n",
        "                epochs=50, callbacks=[lr_callback], verbose=True)"
      ],
      "metadata": {
        "colab": {
          "base_uri": "https://localhost:8080/"
        },
        "id": "D9Pvx_r-5aaG",
        "outputId": "367b23c3-6534-4f06-b05e-7e2a9c85563f"
      },
      "execution_count": null,
      "outputs": [
        {
          "output_type": "stream",
          "name": "stdout",
          "text": [
            "Epoch 1/50\n",
            "56/56 [==============================] - 30s 270ms/step - loss: 2.2586 - accuracy: 0.3294 - val_loss: 1.8982 - val_accuracy: 0.4505 - lr: 0.0010\n",
            "Epoch 2/50\n",
            "56/56 [==============================] - 15s 276ms/step - loss: 1.7279 - accuracy: 0.4163 - val_loss: 1.5559 - val_accuracy: 0.4489 - lr: 0.0010\n",
            "Epoch 3/50\n",
            "56/56 [==============================] - 15s 267ms/step - loss: 1.4871 - accuracy: 0.4576 - val_loss: 1.4027 - val_accuracy: 0.4714 - lr: 0.0010\n",
            "Epoch 4/50\n",
            "56/56 [==============================] - 15s 264ms/step - loss: 1.3625 - accuracy: 0.4904 - val_loss: 1.3356 - val_accuracy: 0.5170 - lr: 0.0010\n",
            "Epoch 5/50\n",
            "56/56 [==============================] - 15s 264ms/step - loss: 1.2980 - accuracy: 0.5167 - val_loss: 1.3236 - val_accuracy: 0.5108 - lr: 0.0010\n",
            "Epoch 6/50\n",
            "56/56 [==============================] - 14s 256ms/step - loss: 1.2450 - accuracy: 0.5400 - val_loss: 1.2220 - val_accuracy: 0.5704 - lr: 0.0010\n",
            "Epoch 7/50\n",
            "56/56 [==============================] - 15s 264ms/step - loss: 1.2071 - accuracy: 0.5534 - val_loss: 1.2353 - val_accuracy: 0.5573 - lr: 0.0010\n",
            "Epoch 8/50\n",
            "56/56 [==============================] - 14s 259ms/step - loss: 1.1895 - accuracy: 0.5643 - val_loss: 1.2487 - val_accuracy: 0.5333 - lr: 0.0010\n",
            "Epoch 9/50\n",
            "56/56 [==============================] - 15s 262ms/step - loss: 1.1393 - accuracy: 0.5872 - val_loss: 1.2156 - val_accuracy: 0.5766 - lr: 0.0010\n",
            "Epoch 10/50\n",
            "56/56 [==============================] - 15s 265ms/step - loss: 1.1324 - accuracy: 0.5979 - val_loss: 1.2218 - val_accuracy: 0.5937 - lr: 0.0010\n",
            "Epoch 11/50\n",
            "56/56 [==============================] - 16s 273ms/step - loss: 1.1116 - accuracy: 0.6177 - val_loss: 1.2328 - val_accuracy: 0.5859 - lr: 0.0010\n",
            "Epoch 12/50\n",
            "56/56 [==============================] - 15s 266ms/step - loss: 1.0754 - accuracy: 0.6302 - val_loss: 1.2409 - val_accuracy: 0.5782 - lr: 0.0010\n",
            "Epoch 13/50\n",
            "56/56 [==============================] - 15s 265ms/step - loss: 1.0638 - accuracy: 0.6437 - val_loss: 1.2226 - val_accuracy: 0.6169 - lr: 0.0010\n",
            "Epoch 14/50\n",
            "56/56 [==============================] - 15s 265ms/step - loss: 1.0497 - accuracy: 0.6554 - val_loss: 1.1874 - val_accuracy: 0.6401 - lr: 0.0010\n",
            "Epoch 15/50\n",
            "56/56 [==============================] - 15s 275ms/step - loss: 1.0184 - accuracy: 0.6742 - val_loss: 1.1425 - val_accuracy: 0.6641 - lr: 0.0010\n",
            "Epoch 16/50\n",
            "56/56 [==============================] - 16s 274ms/step - loss: 1.0074 - accuracy: 0.6848 - val_loss: 1.2451 - val_accuracy: 0.6146 - lr: 0.0010\n",
            "Epoch 17/50\n",
            "56/56 [==============================] - 15s 269ms/step - loss: 1.0196 - accuracy: 0.6886 - val_loss: 1.2248 - val_accuracy: 0.6331 - lr: 0.0010\n",
            "Epoch 18/50\n",
            "56/56 [==============================] - 15s 265ms/step - loss: 0.9879 - accuracy: 0.7093 - val_loss: 1.1632 - val_accuracy: 0.6409 - lr: 0.0010\n",
            "Epoch 19/50\n",
            "56/56 [==============================] - 15s 264ms/step - loss: 0.9652 - accuracy: 0.7115 - val_loss: 1.1904 - val_accuracy: 0.6625 - lr: 0.0010\n",
            "Epoch 20/50\n",
            "56/56 [==============================] - 15s 263ms/step - loss: 0.9421 - accuracy: 0.7296 - val_loss: 1.2023 - val_accuracy: 0.6563 - lr: 0.0010\n",
            "Epoch 21/50\n",
            "56/56 [==============================] - 15s 270ms/step - loss: 0.9509 - accuracy: 0.7294 - val_loss: 1.2193 - val_accuracy: 0.6401 - lr: 0.0010\n",
            "Epoch 22/50\n",
            "56/56 [==============================] - 15s 271ms/step - loss: 0.9153 - accuracy: 0.7450 - val_loss: 1.1897 - val_accuracy: 0.6765 - lr: 0.0010\n",
            "Epoch 23/50\n",
            "56/56 [==============================] - 15s 265ms/step - loss: 0.9295 - accuracy: 0.7416 - val_loss: 1.1157 - val_accuracy: 0.6904 - lr: 0.0010\n",
            "Epoch 24/50\n",
            "56/56 [==============================] - 15s 265ms/step - loss: 0.9066 - accuracy: 0.7475 - val_loss: 1.2379 - val_accuracy: 0.6455 - lr: 0.0010\n",
            "Epoch 25/50\n",
            "56/56 [==============================] - 17s 297ms/step - loss: 0.8689 - accuracy: 0.7665 - val_loss: 1.1625 - val_accuracy: 0.6780 - lr: 0.0010\n",
            "Epoch 26/50\n",
            "56/56 [==============================] - 15s 267ms/step - loss: 0.8701 - accuracy: 0.7635 - val_loss: 1.2092 - val_accuracy: 0.6695 - lr: 0.0010\n",
            "Epoch 27/50\n",
            "56/56 [==============================] - 15s 265ms/step - loss: 0.8629 - accuracy: 0.7674 - val_loss: 1.1536 - val_accuracy: 0.6904 - lr: 0.0010\n",
            "Epoch 28/50\n",
            "56/56 [==============================] - 15s 265ms/step - loss: 0.8457 - accuracy: 0.7794 - val_loss: 1.3031 - val_accuracy: 0.6215 - lr: 0.0010\n",
            "Epoch 29/50\n",
            "56/56 [==============================] - 15s 263ms/step - loss: 0.8647 - accuracy: 0.7743 - val_loss: 1.1568 - val_accuracy: 0.6633 - lr: 0.0010\n",
            "Epoch 30/50\n",
            "56/56 [==============================] - 16s 285ms/step - loss: 0.8355 - accuracy: 0.7857 - val_loss: 1.0876 - val_accuracy: 0.7291 - lr: 0.0010\n",
            "Epoch 31/50\n",
            "56/56 [==============================] - 16s 282ms/step - loss: 0.8186 - accuracy: 0.7864 - val_loss: 1.1299 - val_accuracy: 0.7090 - lr: 0.0010\n",
            "Epoch 32/50\n",
            "56/56 [==============================] - 15s 274ms/step - loss: 0.7911 - accuracy: 0.8030 - val_loss: 1.1455 - val_accuracy: 0.6912 - lr: 0.0010\n",
            "Epoch 33/50\n",
            "56/56 [==============================] - 15s 265ms/step - loss: 0.8246 - accuracy: 0.7896 - val_loss: 1.1335 - val_accuracy: 0.7098 - lr: 0.0010\n",
            "Epoch 34/50\n",
            "56/56 [==============================] - 14s 258ms/step - loss: 0.7978 - accuracy: 0.7997 - val_loss: 1.1914 - val_accuracy: 0.6981 - lr: 0.0010\n",
            "Epoch 35/50\n",
            "56/56 [==============================] - 15s 260ms/step - loss: 0.7824 - accuracy: 0.8082 - val_loss: 1.1064 - val_accuracy: 0.7175 - lr: 0.0010\n",
            "Epoch 36/50\n",
            "56/56 [==============================] - 15s 264ms/step - loss: 0.7703 - accuracy: 0.8128 - val_loss: 1.2002 - val_accuracy: 0.6796 - lr: 0.0010\n",
            "Epoch 37/50\n",
            "56/56 [==============================] - 15s 262ms/step - loss: 0.7839 - accuracy: 0.8062 - val_loss: 1.1482 - val_accuracy: 0.7028 - lr: 0.0010\n",
            "Epoch 38/50\n",
            "56/56 [==============================] - 15s 268ms/step - loss: 0.7458 - accuracy: 0.8217 - val_loss: 1.1634 - val_accuracy: 0.7043 - lr: 0.0010\n",
            "Epoch 39/50\n",
            "56/56 [==============================] - 15s 266ms/step - loss: 0.7768 - accuracy: 0.8054 - val_loss: 1.1395 - val_accuracy: 0.6966 - lr: 0.0010\n",
            "Epoch 40/50\n",
            "56/56 [==============================] - 15s 263ms/step - loss: 0.7329 - accuracy: 0.8235 - val_loss: 1.1300 - val_accuracy: 0.7260 - lr: 0.0010\n",
            "Epoch 41/50\n",
            "56/56 [==============================] - 15s 271ms/step - loss: 0.7002 - accuracy: 0.8376 - val_loss: 1.1394 - val_accuracy: 0.7121 - lr: 5.0000e-04\n",
            "Epoch 42/50\n",
            "56/56 [==============================] - 15s 276ms/step - loss: 0.6685 - accuracy: 0.8482 - val_loss: 1.1191 - val_accuracy: 0.7159 - lr: 5.0000e-04\n",
            "Epoch 43/50\n",
            "56/56 [==============================] - 16s 286ms/step - loss: 0.6367 - accuracy: 0.8557 - val_loss: 1.1661 - val_accuracy: 0.7043 - lr: 5.0000e-04\n",
            "Epoch 44/50\n",
            "56/56 [==============================] - 15s 270ms/step - loss: 0.6291 - accuracy: 0.8542 - val_loss: 1.0869 - val_accuracy: 0.7283 - lr: 5.0000e-04\n",
            "Epoch 45/50\n",
            "56/56 [==============================] - 15s 265ms/step - loss: 0.6115 - accuracy: 0.8581 - val_loss: 1.0645 - val_accuracy: 0.7229 - lr: 5.0000e-04\n",
            "Epoch 46/50\n",
            "56/56 [==============================] - 15s 268ms/step - loss: 0.5930 - accuracy: 0.8668 - val_loss: 1.2012 - val_accuracy: 0.6912 - lr: 5.0000e-04\n",
            "Epoch 47/50\n",
            "56/56 [==============================] - 15s 262ms/step - loss: 0.6190 - accuracy: 0.8539 - val_loss: 1.0772 - val_accuracy: 0.7237 - lr: 5.0000e-04\n",
            "Epoch 48/50\n",
            "56/56 [==============================] - 15s 264ms/step - loss: 0.6027 - accuracy: 0.8604 - val_loss: 1.1544 - val_accuracy: 0.7028 - lr: 5.0000e-04\n",
            "Epoch 49/50\n",
            "56/56 [==============================] - 15s 263ms/step - loss: 0.5892 - accuracy: 0.8661 - val_loss: 1.1397 - val_accuracy: 0.7206 - lr: 5.0000e-04\n",
            "Epoch 50/50\n",
            "56/56 [==============================] - 16s 278ms/step - loss: 0.5839 - accuracy: 0.8644 - val_loss: 1.3373 - val_accuracy: 0.6703 - lr: 5.0000e-04\n"
          ]
        }
      ]
    },
    {
      "cell_type": "code",
      "source": [
        "# Plotting accuracy trajectory\n",
        "plt.plot(CNN_LSTM_Hybrid_results.history['accuracy'])\n",
        "plt.plot(CNN_LSTM_Hybrid_results.history['val_accuracy'])\n",
        "plt.title('CNN and LSTM hybird model accuracy trajectory')\n",
        "plt.ylabel('accuracy')\n",
        "plt.xlabel('epoch')\n",
        "plt.legend(['train', 'val'], loc='upper left')\n",
        "plt.show()\n",
        "\n",
        "# Plotting loss trajectory\n",
        "plt.plot(CNN_LSTM_Hybrid_results.history['loss'],'o')\n",
        "plt.plot(CNN_LSTM_Hybrid_results.history['val_loss'],'o')\n",
        "plt.title('CNN and LSTM hybird model loss trajectory')\n",
        "plt.ylabel('loss')\n",
        "plt.xlabel('epoch')\n",
        "plt.legend(['train', 'val'], loc='upper left')\n",
        "plt.show()"
      ],
      "metadata": {
        "id": "wKC5DlSU-uFG",
        "colab": {
          "base_uri": "https://localhost:8080/",
          "height": 573
        },
        "outputId": "60fa53a3-fb2f-4612-e33e-56ac01b23275"
      },
      "execution_count": null,
      "outputs": [
        {
          "output_type": "display_data",
          "data": {
            "text/plain": [
              "<Figure size 432x288 with 1 Axes>"
            ],
            "image/png": "[encoded data removed]"
          },
          "metadata": {
            "needs_background": "light"
          }
        },
        {
          "output_type": "display_data",
          "data": {
            "text/plain": [
              "<Figure size 432x288 with 1 Axes>"
            ],
            "image/png": "[encoded data removed]"
          },
          "metadata": {
            "needs_background": "light"
          }
        }
      ]
    },
    {
      "cell_type": "markdown",
      "source": [
        "# Test set Predictions"
      ],
      "metadata": {
        "id": "kne2MNJT2U3S"
      }
    },
    {
      "cell_type": "code",
      "source": [
        "import time\n",
        "start_time = time.time() \n",
        "\n",
        "# Testing the basic CNN model\n",
        "CNN_LSTM_Hybrid_score = CNN_LSTM_Hybrid.evaluate(x=X_y_test, verbose=0)\n",
        "\n",
        "end_time = time.time()\n",
        "total_time = end_time - start_time\n",
        "print('Test accuracy of the CNN and LSTM hybird model:',CNN_LSTM_Hybrid_score[1])\n",
        "\n",
        "print(\"Total running time: {:.2f} seconds\".format(total_time))"
      ],
      "metadata": {
        "id": "ofzG3F-Q-2W-",
        "colab": {
          "base_uri": "https://localhost:8080/"
        },
        "outputId": "ef45785c-20c7-4c0a-91ad-fa7dff5c8e3d"
      },
      "execution_count": null,
      "outputs": [
        {
          "output_type": "stream",
          "name": "stdout",
          "text": [
            "Test accuracy of the CNN and LSTM hybird model: 0.6839728951454163\n",
            "Total running time: 0.42 seconds\n"
          ]
        }
      ]
    },
    {
      "cell_type": "markdown",
      "source": [
        "# Accuracy score for special subjects"
      ],
      "metadata": {
        "id": "m7B-DTDqpwp6"
      }
    },
    {
      "cell_type": "code",
      "source": [
        "def preson_data_prep(person):\n",
        "    \n",
        "    total_person = None\n",
        "\n",
        "    total_person = np.vstack((person, person, person, person))\n",
        "    \n",
        "    return total_person\n",
        "\n",
        "person_test_prep = preson_data_prep(person_test)\n",
        "\n",
        "print(f'Testing target shape after Preprocessing: {person_test_prep.shape}')"
      ],
      "metadata": {
        "colab": {
          "base_uri": "https://localhost:8080/"
        },
        "id": "gDkwuM2Epzjn",
        "outputId": "063dfe8b-c0b6-488a-f00d-24e922617577"
      },
      "execution_count": null,
      "outputs": [
        {
          "output_type": "stream",
          "name": "stdout",
          "text": [
            "Testing target shape after Preprocessing: (1772, 1)\n"
          ]
        }
      ]
    },
    {
      "cell_type": "code",
      "source": [
        "idx_sub1 = np.where(person_test_prep==0)[0]\n",
        "idx_sub2 = np.where(person_test_prep==1)[0]\n",
        "idx_sub3 = np.where(person_test_prep==2)[0]\n",
        "idx_sub4 = np.where(person_test_prep==3)[0]\n",
        "idx_sub5 = np.where(person_test_prep==4)[0]\n",
        "idx_sub6 = np.where(person_test_prep==5)[0]\n",
        "idx_sub7 = np.where(person_test_prep==6)[0]\n",
        "idx_sub8 = np.where(person_test_prep==7)[0]\n",
        "idx_sub9 = np.where(person_test_prep==8)[0]"
      ],
      "metadata": {
        "id": "-Ic5ttAvp2qV"
      },
      "execution_count": null,
      "outputs": []
    },
    {
      "cell_type": "code",
      "source": [
        "print('Optimizing for all subjects:')\n",
        "print('Subject 1:')\n",
        "sub1 = CNN_LSTM_Hybrid.evaluate(X_test_transpose[idx_sub1], y_test_ready[idx_sub1], verbose=0)\n",
        "print(f'Test accuracy of the basic CNN model on subject 1: {sub1[1]}')\n",
        "print('Subject 2:')\n",
        "sub2 = CNN_LSTM_Hybrid.evaluate(X_test_transpose[idx_sub2], y_test_ready[idx_sub2], verbose=0)\n",
        "print(f'Test accuracy of the basic CNN model on subject 2: {sub2[1]}')\n",
        "print('Subject 3:')\n",
        "sub3= CNN_LSTM_Hybrid.evaluate(X_test_transpose[idx_sub3], y_test_ready[idx_sub3], verbose=0)\n",
        "print(f'Test accuracy of the basic CNN model on subject 3: {sub3[1]}')\n",
        "print('Subject 4:')\n",
        "sub4= CNN_LSTM_Hybrid.evaluate(X_test_transpose[idx_sub4], y_test_ready[idx_sub4], verbose=0)\n",
        "print(f'Test accuracy of the basic CNN model on subject 4: {sub4[1]}')\n",
        "print('Subject 5:')\n",
        "sub5 = CNN_LSTM_Hybrid.evaluate(X_test_transpose[idx_sub5], y_test_ready[idx_sub5], verbose=0)\n",
        "print(f'Test accuracy of the basic CNN model on subject 5: {sub5[1]}')\n",
        "print('Subject 6:')\n",
        "sub6 = CNN_LSTM_Hybrid.evaluate(X_test_transpose[idx_sub6], y_test_ready[idx_sub6], verbose=0)\n",
        "print(f'Test accuracy of the basic CNN model on subject 6: {sub6[1]}')\n",
        "print('Subject 7:')\n",
        "sub7 = CNN_LSTM_Hybrid.evaluate(X_test_transpose[idx_sub7], y_test_ready[idx_sub7], verbose=0)\n",
        "print(f'Test accuracy of the basic CNN model on subject 7: {sub7[1]}')\n",
        "print('Subject 8:')\n",
        "sub8 = CNN_LSTM_Hybrid.evaluate(X_test_transpose[idx_sub8], y_test_ready[idx_sub8], verbose=0)\n",
        "print(f'Test accuracy of the basic CNN model on subject 8: {sub8[1]}')\n",
        "print('Subject 9:')\n",
        "sub9 = CNN_LSTM_Hybrid.evaluate(X_test_transpose[idx_sub9], y_test_ready[idx_sub9], verbose=0)\n",
        "print(f'Test accuracy of the basic CNN model on subject 9: {sub9[1]}')"
      ],
      "metadata": {
        "colab": {
          "base_uri": "https://localhost:8080/"
        },
        "id": "Lsk0a4T7p52l",
        "outputId": "fd2fc0da-74f0-49fb-deba-a64b0fa2b445"
      },
      "execution_count": null,
      "outputs": [
        {
          "output_type": "stream",
          "name": "stdout",
          "text": [
            "Optimizing for all subjects:\n",
            "Subject 1:\n",
            "Test accuracy of the basic CNN model on subject 1: 0.7400000095367432\n",
            "Subject 2:\n",
            "Test accuracy of the basic CNN model on subject 2: 0.5550000071525574\n",
            "Subject 3:\n",
            "Test accuracy of the basic CNN model on subject 3: 0.675000011920929\n",
            "Subject 4:\n",
            "Test accuracy of the basic CNN model on subject 4: 0.7649999856948853\n",
            "Subject 5:\n",
            "Test accuracy of the basic CNN model on subject 5: 0.7978723645210266\n",
            "Subject 6:\n",
            "Test accuracy of the basic CNN model on subject 6: 0.6224489808082581\n",
            "Subject 7:\n",
            "Test accuracy of the basic CNN model on subject 7: 0.6899999976158142\n",
            "Subject 8:\n",
            "Test accuracy of the basic CNN model on subject 8: 0.6800000071525574\n",
            "Subject 9:\n",
            "Test accuracy of the basic CNN model on subject 9: 0.6329787373542786\n"
          ]
        }
      ]
    },
    {
      "cell_type": "code",
      "source": [
        "subject_labels = ['Subject1','Subject2','Subject3','Subject4','Subject5','Subject6','Subject7','Subject8','Subject9',]\n",
        "all_optimization_accuracies = [sub1[1],sub2[1],sub3[1],sub4[1],sub5[1],sub6[1],sub7[1],sub8[1],sub9[1]]\n",
        "\n",
        "ax = plt.figure().add_axes([0,0,1,1])\n",
        "print('Optimizing for all subjects:')\n",
        "ax.bar(subject_labels,all_optimization_accuracies)\n",
        "plt.show()"
      ],
      "metadata": {
        "colab": {
          "base_uri": "https://localhost:8080/",
          "height": 354
        },
        "id": "4neCrsSHp8aV",
        "outputId": "4e38e8b9-5ab7-4e8e-e8d7-65e7fb91f639"
      },
      "execution_count": null,
      "outputs": [
        {
          "output_type": "stream",
          "name": "stdout",
          "text": [
            "Optimizing for all subjects:\n"
          ]
        },
        {
          "output_type": "display_data",
          "data": {
            "text/plain": [
              "<Figure size 432x288 with 1 Axes>"
            ],
            "image/png": "[encoded data removed]"
          },
          "metadata": {
            "needs_background": "light"
          }
        }
      ]
    }
  ],
  "metadata": {
    "kernelspec": {
      "display_name": "Python 3",
      "name": "python3"
    },
    "language_info": {
      "name": "python"
    },
    "colab": {
      "provenance": []
    },
    "accelerator": "GPU",
    "gpuClass": "standard"
  },
  "nbformat": 4,
  "nbformat_minor": 0
}