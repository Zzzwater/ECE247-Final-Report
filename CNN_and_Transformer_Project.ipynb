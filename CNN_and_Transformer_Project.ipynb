{
  "cells": [
    {
      "cell_type": "code",
      "source": [
        "from google.colab import drive\n",
        "drive.mount('/content/drive')"
      ],
      "metadata": {
        "colab": {
          "base_uri": "https://localhost:8080/"
        },
        "id": "dsbnUkzKQcrg",
        "outputId": "1b10849e-4139-4cd0-cc0f-05b4ed8bc9d9"
      },
      "execution_count": null,
      "outputs": [
        {
          "output_type": "stream",
          "name": "stdout",
          "text": [
            "Mounted at /content/drive\n"
          ]
        }
      ]
    },
    {
      "cell_type": "code",
      "source": [
        "import sys\n",
        "sys.path.append('/content/drive/MyDrive/Colab Notebooks/Data/')"
      ],
      "metadata": {
        "id": "gUNFbcegRFAO"
      },
      "execution_count": null,
      "outputs": []
    },
    {
      "cell_type": "markdown",
      "source": [
        "# Package Importing"
      ],
      "metadata": {
        "id": "OxfbbnTJfzM8"
      }
    },
    {
      "cell_type": "code",
      "execution_count": null,
      "metadata": {
        "collapsed": true,
        "id": "pocNIFwZQTmS"
      },
      "outputs": [],
      "source": [
        "import tensorflow as tf                  # TensorFlow\n",
        "import tensorflow.nn as nn               # nn contains useful neural network functions like softmax, relu, tanh\n",
        "from tensorflow import keras             # high level API for TensorFlow\n",
        "import tensorflow.keras.layers as layers # contains layers like RNN, CNN, LSTM\n",
        "from keras.utils import to_categorical\n",
        "from tensorflow.keras.callbacks import LearningRateScheduler\n",
        "from keras import regularizers\n",
        "from keras.callbacks import EarlyStopping\n",
        "\n",
        "import numpy as np\n",
        "import matplotlib.pyplot as plt\n",
        "from sklearn.model_selection import train_test_split"
      ]
    },
    {
      "cell_type": "markdown",
      "source": [
        "#EDA - Exploratory data analysis"
      ],
      "metadata": {
        "id": "pu3X9FGufscb"
      }
    },
    {
      "cell_type": "markdown",
      "source": [
        "### Data Loading"
      ],
      "metadata": {
        "id": "e6RnTWEvf_hc"
      }
    },
    {
      "cell_type": "code",
      "execution_count": null,
      "metadata": {
        "collapsed": true,
        "id": "nIammTprQTmU",
        "colab": {
          "base_uri": "https://localhost:8080/"
        },
        "outputId": "f96af96e-dd82-4628-856d-bc9551919806"
      },
      "outputs": [
        {
          "output_type": "stream",
          "name": "stdout",
          "text": [
            "Training/Valid data shape: (2115, 22, 1000)\n",
            "Training/Valid target shape: (2115,)\n",
            "Test data shape: (443, 22, 1000)\n",
            "Test target shape: (443,)\n",
            "Person train/valid shape: (2115, 1)\n",
            "Person test shape: (443, 1)\n"
          ]
        }
      ],
      "source": [
        "X_train_valid = np.load(\"/content/drive/MyDrive/Colab Notebooks/Data/EEG/X_train_valid.npy\")\n",
        "y_train_valid = np.load(\"/content/drive/MyDrive/Colab Notebooks/Data/EEG/y_train_valid.npy\")\n",
        "X_test = np.load(\"/content/drive/MyDrive/Colab Notebooks/Data/EEG/X_test.npy\")\n",
        "y_test = np.load(\"/content/drive/MyDrive/Colab Notebooks/Data/EEG/y_test.npy\")\n",
        "person_train_valid = np.load(\"/content/drive/MyDrive/Colab Notebooks/Data/EEG/person_train_valid.npy\")\n",
        "person_test = np.load(\"/content/drive/MyDrive/Colab Notebooks/Data/EEG/person_test.npy\")\n",
        "\n",
        "print (f'Training/Valid data shape: {X_train_valid.shape}')\n",
        "print (f'Training/Valid target shape: {y_train_valid.shape}')\n",
        "print (f'Test data shape: {X_test.shape}')\n",
        "print (f'Test target shape: {y_test.shape}')\n",
        "print (f'Person train/valid shape: {person_train_valid.shape}')\n",
        "print (f'Person test shape: {person_test.shape}')"
      ]
    },
    {
      "cell_type": "markdown",
      "source": [
        "### Data Visulazation"
      ],
      "metadata": {
        "id": "sDCpX6rggEsL"
      }
    },
    {
      "cell_type": "code",
      "source": [
        "# Assign labels to the data\n",
        "# re-assign labels to be between 0 and 3\n",
        "y_train_valid[y_train_valid==769] = 0  # cue onset left\n",
        "y_train_valid[y_train_valid==770] = 1  # cue onset right\n",
        "y_train_valid[y_train_valid==771] = 2  # cue onset foot\n",
        "y_train_valid[y_train_valid==772] = 3  # cue onset tongue\n",
        "\n",
        "y_test[y_test==769] = 0  # cue onset left\n",
        "y_test[y_test==770] = 1  # cue onset right\n",
        "y_test[y_test==771] = 2  # cue onset foot\n",
        "y_test[y_test==772] = 3  # cue onset tongue\n",
        "\n",
        "ch_data = X_train_valid[:,5,:] # extracts the 6th channel from the data\n",
        "\n",
        "class_0_ind = np.where(y_train_valid == 0) # finds the indices where the label is 0\n",
        "ch_data_class_0 = ch_data[class_0_ind] # finds the data where label is 0\n",
        "avg_ch_data_class_0 = np.mean(ch_data_class_0,axis=0) # finds the average representation of the 9th channel when label is 0\n",
        "\n",
        "\n",
        "class_1_ind = np.where(y_train_valid == 1)\n",
        "ch_data_class_1 = ch_data[class_1_ind]\n",
        "avg_ch_data_class_1 = np.mean(ch_data_class_1,axis=0)\n",
        "\n",
        "class_2_ind = np.where(y_train_valid == 2)\n",
        "ch_data_class_2 = ch_data[class_2_ind]\n",
        "avg_ch_data_class_2 = np.mean(ch_data_class_2,axis=0)\n",
        "\n",
        "class_3_ind = np.where(y_train_valid == 3)\n",
        "ch_data_class_3 = ch_data[class_3_ind]\n",
        "avg_ch_data_class_3 = np.mean(ch_data_class_3,axis=0)\n",
        "\n",
        "\n",
        "plt.figure(figsize=(10, 5))\n",
        "plt.plot(np.arange(1000),avg_ch_data_class_0)\n",
        "plt.plot(np.arange(1000),avg_ch_data_class_1)\n",
        "plt.plot(np.arange(1000),avg_ch_data_class_2)\n",
        "plt.plot(np.arange(1000),avg_ch_data_class_3)\n",
        "plt.axvline(x=500, label='line at t=500',c='cyan')\n",
        "\n",
        "plt.legend([\"Cue Onset left\", \"Cue Onset right\", \"Cue onset foot\", \"Cue onset tongue\"])"
      ],
      "metadata": {
        "colab": {
          "base_uri": "https://localhost:8080/",
          "height": 338
        },
        "id": "CR4VT3uh0vY6",
        "outputId": "e6e7724c-d762-4965-d8fc-62b881f01353"
      },
      "execution_count": null,
      "outputs": [
        {
          "output_type": "execute_result",
          "data": {
            "text/plain": [
              "<matplotlib.legend.Legend at 0x7f1773878790>"
            ]
          },
          "metadata": {},
          "execution_count": 5
        },
        {
          "output_type": "display_data",
          "data": {
            "text/plain": [
              "<Figure size 720x360 with 1 Axes>"
            ],
            "image/png": "[encoded data removed]"
          },
          "metadata": {
            "needs_background": "light"
          }
        }
      ]
    },
    {
      "cell_type": "markdown",
      "source": [
        "## Data Augmentation and Data Splitting"
      ],
      "metadata": {
        "id": "KmP23-ISgKvH"
      }
    },
    {
      "cell_type": "code",
      "execution_count": null,
      "metadata": {
        "id": "aZZL7jE5oxT_"
      },
      "outputs": [],
      "source": [
        "def data_prep(X,y,sub_sample,average,noise):\n",
        "    \n",
        "    total_X = None\n",
        "    total_y = None\n",
        "    \n",
        "    # Trimming the data (2115,22,1000) -> (2115,22,500)\n",
        "    X = X[:,:,0:500]\n",
        "    \n",
        "    # Maxpooling the data (2115,22,500) -> (2115,22,500/(sub_sample=2))\n",
        "    X_max = np.max(X.reshape(X.shape[0], X.shape[1], -1, sub_sample), axis=3)\n",
        "        \n",
        "    # Averaging + noise, size (2115,22,500) -> (2115,22,500/(average=2))\n",
        "    X_average = np.mean(X.reshape(X.shape[0], X.shape[1], -1, average),axis=3)\n",
        "    X_average = X_average + np.random.normal(0.0, 0.5, X_average.shape)\n",
        "    \n",
        "    total_X = np.vstack((X_max, X_average))\n",
        "    total_y = np.hstack((y, y))\n",
        "    \n",
        "    # Subsampling    \n",
        "    for i in range(sub_sample):        \n",
        "        X_subsample = X[:, :, i::sub_sample] + \\\n",
        "                  (np.random.normal(0.0, 0.5, X[:, :,i::sub_sample].shape) if noise else 0.0)\n",
        "            \n",
        "        total_X = np.vstack((total_X, X_subsample))\n",
        "        total_y = np.hstack((total_y, y))\n",
        "            \n",
        "    return total_X,total_y"
      ]
    },
    {
      "cell_type": "code",
      "execution_count": null,
      "metadata": {
        "id": "aZe_nkeGoxUA",
        "outputId": "7ab00597-edef-440d-bd39-a88669e9318d",
        "colab": {
          "base_uri": "https://localhost:8080/"
        }
      },
      "outputs": [
        {
          "output_type": "stream",
          "name": "stdout",
          "text": [
            "Training data shape after Preprocessing: (7168, 22, 250)\n",
            "Training target shape after Preprocessing: (7168,)\n",
            "Valid data shape after Preprocessing: (1292, 22, 250)\n",
            "Valid target shape after Preprocessing: (1292,)\n",
            "Testing data shape after Preprocessing: (1772, 22, 250)\n",
            "Testing target shape after Preprocessing: (1772,)\n"
          ]
        }
      ],
      "source": [
        "# split the training and validation\n",
        "# Creating the training and validation sets using the generated indices\n",
        "np.random.seed(12345)\n",
        "ind_valid = np.random.choice(2115, 323, replace=False)\n",
        "ind_train = np.array(list(set(range(2115)).difference(set(ind_valid))))\n",
        "(X_train_split, X_valid_split) = X_train_valid[ind_train], X_train_valid[ind_valid] \n",
        "(y_train_split, y_valid_split) = y_train_valid[ind_train], y_train_valid[ind_valid]\n",
        "\n",
        "# Preprocessing the dataset\n",
        "X_train_prep, y_train_prep = data_prep(X_train_split,y_train_split,2,2,True)\n",
        "X_valid_prep, y_valid_prep = data_prep(X_valid_split,y_valid_split,2,2,True)\n",
        "X_test_prep, y_test_prep = data_prep(X_test,y_test,2,2,True)\n",
        "\n",
        "\n",
        "print(f'Training data shape after Preprocessing: {X_train_prep.shape}')\n",
        "print(f'Training target shape after Preprocessing: {y_train_prep.shape}')\n",
        "\n",
        "print(f'Valid data shape after Preprocessing: {X_valid_prep.shape}')\n",
        "print(f'Valid target shape after Preprocessing: {y_valid_prep.shape}')\n",
        "\n",
        "print(f'Testing data shape after Preprocessing: {X_test_prep.shape}')\n",
        "print(f'Testing target shape after Preprocessing: {y_test_prep.shape}')"
      ]
    },
    {
      "cell_type": "markdown",
      "source": [
        "## Data Preprocessing"
      ],
      "metadata": {
        "id": "LTD1sU7u2opI"
      }
    },
    {
      "cell_type": "code",
      "source": [
        "# Converting the labels to categorical variables for multiclass classification\n",
        "y_train_ready = to_categorical(y_train_prep, 4)\n",
        "y_valid_ready = to_categorical(y_valid_prep, 4)\n",
        "y_test_ready = to_categorical(y_test_prep, 4)\n",
        "print('Training target shape after categorical conversion:',y_train_ready.shape)\n",
        "print('Valid target shape after categorical conversion:',y_valid_ready.shape)\n",
        "print('Testing target shape after categorical conversion:',y_test_ready.shape)"
      ],
      "metadata": {
        "colab": {
          "base_uri": "https://localhost:8080/"
        },
        "id": "p2WUQ18N_XE9",
        "outputId": "5ed95470-c373-4fb8-c747-d4198bd867ed"
      },
      "execution_count": null,
      "outputs": [
        {
          "output_type": "stream",
          "name": "stdout",
          "text": [
            "Training target shape after categorical conversion: (7168, 4)\n",
            "Valid target shape after categorical conversion: (1292, 4)\n",
            "Testing target shape after categorical conversion: (1772, 4)\n"
          ]
        }
      ]
    },
    {
      "cell_type": "code",
      "source": [
        "# add extra dimension for grayscale images\n",
        "X_train_grayscale = np.expand_dims(X_train_prep, axis=-1)\n",
        "X_valid_grayscale = np.expand_dims(X_valid_prep, axis=-1)\n",
        "X_test_grayscale = np.expand_dims(X_test_prep, axis=-1)\n",
        "\n",
        "print(f'Training data shape for grayscale images: {X_train_grayscale.shape}')\n",
        "print(f'Validation data shape for grayscale images: {X_valid_grayscale.shape}')\n",
        "print(f'Testing data shape for grayscale images: {X_test_grayscale.shape}')\n",
        "\n",
        "# rearange input dimensions\n",
        "# model expects (batch, seq, features(channels)) but currently we have (batch, features(channels), seq)\n",
        "X_train_transpose = np.transpose(X_train_grayscale, (0, 2, 3, 1))\n",
        "X_valid_transpose = np.transpose(X_valid_grayscale, (0, 2, 3, 1))\n",
        "X_test_transpose = np.transpose(X_test_grayscale, (0, 2, 3, 1))\n",
        "\n",
        "print(f\"Training data shape after rearange: {X_train_transpose.shape}\")\n",
        "print(f\"Valid data shape after rearange: {X_valid_transpose.shape}\")\n",
        "print(f\"Testing data shape after rearange: {X_test_transpose.shape}\")\n",
        "\n",
        "# construct the dataset from the NumPy arrays\n",
        "X_y_t = tf.data.Dataset.from_tensor_slices((X_train_transpose, y_train_ready))\n",
        "X_y_v = tf.data.Dataset.from_tensor_slices((X_valid_transpose, y_valid_ready))\n",
        "X_y_te = tf.data.Dataset.from_tensor_slices((X_test_transpose, y_test_ready))"
      ],
      "metadata": {
        "colab": {
          "base_uri": "https://localhost:8080/"
        },
        "id": "hpISBmKZ_h9M",
        "outputId": "395755a3-a8b6-40e3-c814-a72793d482d4"
      },
      "execution_count": null,
      "outputs": [
        {
          "output_type": "stream",
          "name": "stdout",
          "text": [
            "Training data shape for grayscale images: (7168, 22, 250, 1)\n",
            "Validation data shape for grayscale images: (1292, 22, 250, 1)\n",
            "Testing data shape for grayscale images: (1772, 22, 250, 1)\n",
            "Training data shape after rearange: (7168, 250, 1, 22)\n",
            "Valid data shape after rearange: (1292, 250, 1, 22)\n",
            "Testing data shape after rearange: (1772, 250, 1, 22)\n"
          ]
        }
      ]
    },
    {
      "cell_type": "code",
      "source": [
        "# batch and shuffle\n",
        "X_y_train = X_y_t.shuffle(1024).batch(128)\n",
        "X_y_valid = X_y_v.shuffle(1024).batch(128)\n",
        "X_y_test = X_y_te.shuffle(1024).batch(128)"
      ],
      "metadata": {
        "id": "CpTWPi3JYlPL"
      },
      "execution_count": null,
      "outputs": []
    },
    {
      "cell_type": "markdown",
      "source": [
        "# Building the model - CNN and Transformer Hybrid Architecture"
      ],
      "metadata": {
        "id": "KOHJ3Hb_h4Am"
      }
    },
    {
      "cell_type": "code",
      "source": [
        "class TransformerBlock(layers.Layer):\n",
        "    def __init__(self, embed_dim, num_heads, ff_dim, rate=0.5):\n",
        "        super(TransformerBlock, self).__init__()\n",
        "        self.att = layers.MultiHeadAttention(num_heads=num_heads, key_dim=embed_dim)\n",
        "        self.ffn = keras.Sequential([layers.Dense(ff_dim, activation=\"relu\"), layers.Dense(embed_dim), ])\n",
        "        self.layernorm1 = layers.LayerNormalization(epsilon=1e-6)\n",
        "        self.layernorm2 = layers.LayerNormalization(epsilon=1e-6)\n",
        "        self.dropout1 = layers.Dropout(rate)\n",
        "        self.dropout2 = layers.Dropout(rate)\n",
        "\n",
        "    def call(self, inputs, training):\n",
        "        attn_output = self.att(inputs, inputs)\n",
        "        attn_output = self.dropout1(attn_output, training=training)\n",
        "        out1 = self.layernorm1(inputs + attn_output)\n",
        "        ffn_output = self.ffn(out1)\n",
        "        ffn_output = self.dropout2(ffn_output, training=training)\n",
        "        out = self.layernorm2(out1 + ffn_output)\n",
        "        return out\n",
        "\n",
        "\n",
        "class TokenAndPositionEmbedding(layers.Layer):\n",
        "    def __init__(self, maxlen, embed_dim):\n",
        "        super(TokenAndPositionEmbedding, self).__init__()\n",
        "        self.pos_emb = layers.Embedding(input_dim=maxlen, output_dim=embed_dim)\n",
        "\n",
        "    def call(self, x):\n",
        "        positions = tf.range(start=0, limit=maxlen, delta=1)\n",
        "        positions = self.pos_emb(positions)\n",
        "        x = tf.reshape(x, [-1, maxlen, embed_dim])\n",
        "        out = x + positions\n",
        "        return out"
      ],
      "metadata": {
        "id": "2oY-KUiU9PAf"
      },
      "execution_count": null,
      "outputs": []
    },
    {
      "cell_type": "code",
      "execution_count": null,
      "metadata": {
        "id": "5dmdAtXbz3aY",
        "colab": {
          "base_uri": "https://localhost:8080/"
        },
        "outputId": "011b6828-6f4d-4040-a8c0-2b6d3425abf0"
      },
      "outputs": [
        {
          "output_type": "stream",
          "name": "stdout",
          "text": [
            "Model: \"sequential\"\n",
            "_________________________________________________________________\n",
            " Layer (type)                Output Shape              Param #   \n",
            "=================================================================\n",
            " conv1 (Conv2D)              (None, 250, 1, 32)        7072      \n",
            "                                                                 \n",
            " max_pooling2d (MaxPooling2D  (None, 84, 1, 32)        0         \n",
            " )                                                               \n",
            "                                                                 \n",
            " batch_normalization (BatchN  (None, 84, 1, 32)        128       \n",
            " ormalization)                                                   \n",
            "                                                                 \n",
            " dropout (Dropout)           (None, 84, 1, 32)         0         \n",
            "                                                                 \n",
            " conv2 (Conv2D)              (None, 84, 1, 64)         20544     \n",
            "                                                                 \n",
            " max_pooling2d_1 (MaxPooling  (None, 28, 1, 64)        0         \n",
            " 2D)                                                             \n",
            "                                                                 \n",
            " batch_normalization_1 (Batc  (None, 28, 1, 64)        256       \n",
            " hNormalization)                                                 \n",
            "                                                                 \n",
            " dropout_1 (Dropout)         (None, 28, 1, 64)         0         \n",
            "                                                                 \n",
            " conv3 (Conv2D)              (None, 28, 1, 128)        82048     \n",
            "                                                                 \n",
            " average_pooling2d (AverageP  (None, 10, 1, 128)       0         \n",
            " ooling2D)                                                       \n",
            "                                                                 \n",
            " batch_normalization_2 (Batc  (None, 10, 1, 128)       512       \n",
            " hNormalization)                                                 \n",
            "                                                                 \n",
            " dropout_2 (Dropout)         (None, 10, 1, 128)        0         \n",
            "                                                                 \n",
            " reshape (Reshape)           (None, 10, 128)           0         \n",
            "                                                                 \n",
            " token_and_position_embeddin  (None, 10, 1, 128)       128       \n",
            " g (TimeDistributed)                                             \n",
            "                                                                 \n",
            " transformer_block (TimeDist  (None, 10, 1, 128)       544576    \n",
            " ributed)                                                        \n",
            "                                                                 \n",
            " flatten (Flatten)           (None, 1280)              0         \n",
            "                                                                 \n",
            " dense_2 (Dense)             (None, 4)                 5124      \n",
            "                                                                 \n",
            "=================================================================\n",
            "Total params: 660,388\n",
            "Trainable params: 659,940\n",
            "Non-trainable params: 448\n",
            "_________________________________________________________________\n"
          ]
        }
      ],
      "source": [
        "# Building the sequential class\n",
        "CNN_Transformer_Hybrid = keras.Sequential()\n",
        "\n",
        "# Conv block 1\n",
        "CNN_Transformer_Hybrid.add(layers.Conv2D(filters=32, kernel_size=(10,1), padding='same', activation='elu', \n",
        "                    input_shape=(250,1,22),kernel_regularizer=regularizers.l2(0.1), name='conv1'))\n",
        "CNN_Transformer_Hybrid.add(layers.MaxPooling2D(pool_size=(3,1), padding='same'))\n",
        "CNN_Transformer_Hybrid.add(layers.BatchNormalization())\n",
        "CNN_Transformer_Hybrid.add(layers.Dropout(0.5))\n",
        "\n",
        "# Conv. block 2\n",
        "CNN_Transformer_Hybrid.add(layers.Conv2D(filters=64, kernel_size=(10,1), padding='same', activation='elu',\n",
        "                    kernel_regularizer=regularizers.l2(0.1), name='conv2'))\n",
        "CNN_Transformer_Hybrid.add(layers.MaxPooling2D(pool_size=(3,1), padding='same'))\n",
        "CNN_Transformer_Hybrid.add(layers.BatchNormalization())\n",
        "CNN_Transformer_Hybrid.add(layers.Dropout(0.5))\n",
        "\n",
        "# Conv. block 3\n",
        "CNN_Transformer_Hybrid.add(layers.Conv2D(filters=128, kernel_size=(10,1), padding='same', activation='elu',\n",
        "                    kernel_regularizer=regularizers.l2(0.05),name='conv3'))\n",
        "CNN_Transformer_Hybrid.add(layers.AveragePooling2D(pool_size=(3,1), padding='same'))\n",
        "CNN_Transformer_Hybrid.add(layers.BatchNormalization())\n",
        "CNN_Transformer_Hybrid.add(layers.Dropout(0.5))\n",
        "\n",
        "maxlen=1\n",
        "embed_dim=128\n",
        "CNN_Transformer_Hybrid.add(keras.layers.Reshape(target_shape=(10,128)))\n",
        "# Add the token embedding layer to the model\n",
        "token_emb = TokenAndPositionEmbedding(maxlen=maxlen, embed_dim=embed_dim)\n",
        "CNN_Transformer_Hybrid.add(layers.TimeDistributed(token_emb, name='token_and_position_embedding'))\n",
        "\n",
        "# Add the Transformer block layer to the model\n",
        "transformer_block = TransformerBlock(embed_dim=128, num_heads=8, ff_dim=64, rate=0.5)\n",
        "CNN_Transformer_Hybrid.add(layers.TimeDistributed(transformer_block, name='transformer_block'))\n",
        "\n",
        "# Output layer with Softmax activation\n",
        "CNN_Transformer_Hybrid.add(layers.Flatten()) # Flattens the input\n",
        "CNN_Transformer_Hybrid.add(layers.Dense(4, activation='softmax')) # Output FC layer with softmax activation\n",
        "\n",
        "# Printing the model summary\n",
        "CNN_Transformer_Hybrid.summary()"
      ]
    },
    {
      "cell_type": "markdown",
      "source": [
        "# Model Training and Evaluation"
      ],
      "metadata": {
        "id": "ByOGugPF257I"
      }
    },
    {
      "cell_type": "code",
      "source": [
        "#early_stopping\n",
        "#early_stopping = EarlyStopping(monitor='val_loss', patience=10)\n",
        "\n",
        "# Chose Adam as optimizer with annealing learning rate\n",
        "opt = keras.optimizers.Adam(learning_rate=0.001, use_ema = True, ema_momentum=0.9)\n",
        "lr_callback = tf.keras.callbacks.ReduceLROnPlateau(patience=5, factor=0.5)\n",
        "\n",
        "# Computes the crossentropy loss between the labels and predictions.\n",
        "loss_fn = keras.losses.CategoricalCrossentropy()\n",
        "\n",
        "# Compiling the model\n",
        "CNN_Transformer_Hybrid.compile(loss=loss_fn, optimizer=opt, metrics=['accuracy'])\n",
        "\n",
        "# Training and validating the model\n",
        "CNN_Transformer_Hybrid_results = CNN_Transformer_Hybrid.fit(x=X_y_train, validation_data=X_y_valid,\n",
        "                epochs=50, callbacks=[lr_callback], verbose=True)"
      ],
      "metadata": {
        "colab": {
          "base_uri": "https://localhost:8080/"
        },
        "id": "D9Pvx_r-5aaG",
        "outputId": "b31e0148-c142-4bb3-d852-9440144f03dd"
      },
      "execution_count": null,
      "outputs": [
        {
          "output_type": "stream",
          "name": "stdout",
          "text": [
            "Epoch 1/50\n",
            "56/56 [==============================] - 19s 38ms/step - loss: 9.2965 - accuracy: 0.3486 - val_loss: 6.0615 - val_accuracy: 0.4892 - lr: 0.0010\n",
            "Epoch 2/50\n",
            "56/56 [==============================] - 1s 21ms/step - loss: 4.4149 - accuracy: 0.4794 - val_loss: 3.2373 - val_accuracy: 0.5039 - lr: 0.0010\n",
            "Epoch 3/50\n",
            "56/56 [==============================] - 1s 18ms/step - loss: 2.5721 - accuracy: 0.5370 - val_loss: 2.4329 - val_accuracy: 0.4218 - lr: 0.0010\n",
            "Epoch 4/50\n",
            "56/56 [==============================] - 1s 20ms/step - loss: 1.8592 - accuracy: 0.5737 - val_loss: 2.0543 - val_accuracy: 0.4667 - lr: 0.0010\n",
            "Epoch 5/50\n",
            "56/56 [==============================] - 1s 19ms/step - loss: 1.5727 - accuracy: 0.6030 - val_loss: 1.5462 - val_accuracy: 0.6107 - lr: 0.0010\n",
            "Epoch 6/50\n",
            "56/56 [==============================] - 1s 21ms/step - loss: 1.3828 - accuracy: 0.6390 - val_loss: 1.5657 - val_accuracy: 0.5882 - lr: 0.0010\n",
            "Epoch 7/50\n",
            "56/56 [==============================] - 1s 24ms/step - loss: 1.3204 - accuracy: 0.6475 - val_loss: 1.5883 - val_accuracy: 0.5805 - lr: 0.0010\n",
            "Epoch 8/50\n",
            "56/56 [==============================] - 1s 19ms/step - loss: 1.2958 - accuracy: 0.6547 - val_loss: 1.4002 - val_accuracy: 0.6169 - lr: 0.0010\n",
            "Epoch 9/50\n",
            "56/56 [==============================] - 1s 18ms/step - loss: 1.2241 - accuracy: 0.6653 - val_loss: 1.3851 - val_accuracy: 0.6316 - lr: 0.0010\n",
            "Epoch 10/50\n",
            "56/56 [==============================] - 1s 19ms/step - loss: 1.2662 - accuracy: 0.6509 - val_loss: 1.4409 - val_accuracy: 0.6308 - lr: 0.0010\n",
            "Epoch 11/50\n",
            "56/56 [==============================] - 1s 19ms/step - loss: 1.2327 - accuracy: 0.6628 - val_loss: 1.2836 - val_accuracy: 0.6757 - lr: 0.0010\n",
            "Epoch 12/50\n",
            "56/56 [==============================] - 1s 19ms/step - loss: 1.1639 - accuracy: 0.6808 - val_loss: 1.2900 - val_accuracy: 0.6974 - lr: 0.0010\n",
            "Epoch 13/50\n",
            "56/56 [==============================] - 1s 19ms/step - loss: 1.1919 - accuracy: 0.6737 - val_loss: 1.4873 - val_accuracy: 0.6084 - lr: 0.0010\n",
            "Epoch 14/50\n",
            "56/56 [==============================] - 1s 20ms/step - loss: 1.1657 - accuracy: 0.6814 - val_loss: 1.2432 - val_accuracy: 0.6858 - lr: 0.0010\n",
            "Epoch 15/50\n",
            "56/56 [==============================] - 1s 19ms/step - loss: 1.2085 - accuracy: 0.6662 - val_loss: 1.2556 - val_accuracy: 0.7113 - lr: 0.0010\n",
            "Epoch 16/50\n",
            "56/56 [==============================] - 1s 20ms/step - loss: 1.1488 - accuracy: 0.6885 - val_loss: 1.3510 - val_accuracy: 0.6517 - lr: 0.0010\n",
            "Epoch 17/50\n",
            "56/56 [==============================] - 1s 24ms/step - loss: 1.0971 - accuracy: 0.7051 - val_loss: 1.2772 - val_accuracy: 0.6796 - lr: 0.0010\n",
            "Epoch 18/50\n",
            "56/56 [==============================] - 1s 26ms/step - loss: 1.1556 - accuracy: 0.6850 - val_loss: 1.3348 - val_accuracy: 0.6602 - lr: 0.0010\n",
            "Epoch 19/50\n",
            "56/56 [==============================] - 1s 20ms/step - loss: 1.1610 - accuracy: 0.6874 - val_loss: 1.3879 - val_accuracy: 0.6269 - lr: 0.0010\n",
            "Epoch 20/50\n",
            "56/56 [==============================] - 1s 20ms/step - loss: 1.0407 - accuracy: 0.7242 - val_loss: 1.1952 - val_accuracy: 0.7036 - lr: 5.0000e-04\n",
            "Epoch 21/50\n",
            "56/56 [==============================] - 1s 19ms/step - loss: 0.9576 - accuracy: 0.7367 - val_loss: 1.1494 - val_accuracy: 0.7105 - lr: 5.0000e-04\n",
            "Epoch 22/50\n",
            "56/56 [==============================] - 1s 19ms/step - loss: 0.9371 - accuracy: 0.7436 - val_loss: 1.2487 - val_accuracy: 0.6834 - lr: 5.0000e-04\n",
            "Epoch 23/50\n",
            "56/56 [==============================] - 1s 19ms/step - loss: 0.9266 - accuracy: 0.7472 - val_loss: 1.2008 - val_accuracy: 0.7082 - lr: 5.0000e-04\n",
            "Epoch 24/50\n",
            "56/56 [==============================] - 1s 19ms/step - loss: 0.9187 - accuracy: 0.7430 - val_loss: 1.1907 - val_accuracy: 0.6881 - lr: 5.0000e-04\n",
            "Epoch 25/50\n",
            "56/56 [==============================] - 1s 19ms/step - loss: 0.9238 - accuracy: 0.7416 - val_loss: 1.1821 - val_accuracy: 0.6989 - lr: 5.0000e-04\n",
            "Epoch 26/50\n",
            "56/56 [==============================] - 1s 18ms/step - loss: 0.8997 - accuracy: 0.7619 - val_loss: 1.2508 - val_accuracy: 0.6896 - lr: 5.0000e-04\n",
            "Epoch 27/50\n",
            "56/56 [==============================] - 1s 20ms/step - loss: 0.8382 - accuracy: 0.7832 - val_loss: 1.1049 - val_accuracy: 0.7376 - lr: 2.5000e-04\n",
            "Epoch 28/50\n",
            "56/56 [==============================] - 1s 25ms/step - loss: 0.7851 - accuracy: 0.7959 - val_loss: 1.1012 - val_accuracy: 0.7113 - lr: 2.5000e-04\n",
            "Epoch 29/50\n",
            "56/56 [==============================] - 1s 24ms/step - loss: 0.7725 - accuracy: 0.7889 - val_loss: 1.1356 - val_accuracy: 0.7198 - lr: 2.5000e-04\n",
            "Epoch 30/50\n",
            "56/56 [==============================] - 1s 21ms/step - loss: 0.7524 - accuracy: 0.7928 - val_loss: 1.1281 - val_accuracy: 0.7043 - lr: 2.5000e-04\n",
            "Epoch 31/50\n",
            "56/56 [==============================] - 1s 19ms/step - loss: 0.7319 - accuracy: 0.8048 - val_loss: 1.1797 - val_accuracy: 0.7074 - lr: 2.5000e-04\n",
            "Epoch 32/50\n",
            "56/56 [==============================] - 1s 19ms/step - loss: 0.7230 - accuracy: 0.8100 - val_loss: 1.0988 - val_accuracy: 0.7206 - lr: 2.5000e-04\n",
            "Epoch 33/50\n",
            "56/56 [==============================] - 1s 19ms/step - loss: 0.7068 - accuracy: 0.8104 - val_loss: 1.1452 - val_accuracy: 0.7098 - lr: 2.5000e-04\n",
            "Epoch 34/50\n",
            "56/56 [==============================] - 1s 20ms/step - loss: 0.7311 - accuracy: 0.8052 - val_loss: 1.1302 - val_accuracy: 0.6950 - lr: 2.5000e-04\n",
            "Epoch 35/50\n",
            "56/56 [==============================] - 1s 19ms/step - loss: 0.7144 - accuracy: 0.8105 - val_loss: 1.1691 - val_accuracy: 0.7051 - lr: 2.5000e-04\n",
            "Epoch 36/50\n",
            "56/56 [==============================] - 1s 19ms/step - loss: 0.6936 - accuracy: 0.8177 - val_loss: 1.1375 - val_accuracy: 0.7082 - lr: 2.5000e-04\n",
            "Epoch 37/50\n",
            "56/56 [==============================] - 1s 19ms/step - loss: 0.7155 - accuracy: 0.8058 - val_loss: 1.1590 - val_accuracy: 0.7167 - lr: 2.5000e-04\n",
            "Epoch 38/50\n",
            "56/56 [==============================] - 1s 20ms/step - loss: 0.6547 - accuracy: 0.8334 - val_loss: 1.0723 - val_accuracy: 0.7415 - lr: 1.2500e-04\n",
            "Epoch 39/50\n",
            "56/56 [==============================] - 1s 24ms/step - loss: 0.6464 - accuracy: 0.8331 - val_loss: 1.1518 - val_accuracy: 0.7330 - lr: 1.2500e-04\n",
            "Epoch 40/50\n",
            "56/56 [==============================] - 1s 24ms/step - loss: 0.6114 - accuracy: 0.8465 - val_loss: 1.1015 - val_accuracy: 0.7299 - lr: 1.2500e-04\n",
            "Epoch 41/50\n",
            "56/56 [==============================] - 1s 19ms/step - loss: 0.5943 - accuracy: 0.8516 - val_loss: 1.1302 - val_accuracy: 0.7128 - lr: 1.2500e-04\n",
            "Epoch 42/50\n",
            "56/56 [==============================] - 1s 19ms/step - loss: 0.6020 - accuracy: 0.8442 - val_loss: 1.0934 - val_accuracy: 0.7322 - lr: 1.2500e-04\n",
            "Epoch 43/50\n",
            "56/56 [==============================] - 1s 19ms/step - loss: 0.5876 - accuracy: 0.8446 - val_loss: 1.0718 - val_accuracy: 0.7469 - lr: 1.2500e-04\n",
            "Epoch 44/50\n",
            "56/56 [==============================] - 1s 19ms/step - loss: 0.5848 - accuracy: 0.8447 - val_loss: 1.2008 - val_accuracy: 0.6912 - lr: 1.2500e-04\n",
            "Epoch 45/50\n",
            "56/56 [==============================] - 1s 19ms/step - loss: 0.5817 - accuracy: 0.8465 - val_loss: 1.1102 - val_accuracy: 0.7113 - lr: 1.2500e-04\n",
            "Epoch 46/50\n",
            "56/56 [==============================] - 1s 19ms/step - loss: 0.5805 - accuracy: 0.8471 - val_loss: 1.0885 - val_accuracy: 0.7345 - lr: 1.2500e-04\n",
            "Epoch 47/50\n",
            "56/56 [==============================] - 1s 19ms/step - loss: 0.5609 - accuracy: 0.8548 - val_loss: 1.0846 - val_accuracy: 0.7477 - lr: 1.2500e-04\n",
            "Epoch 48/50\n",
            "56/56 [==============================] - 1s 19ms/step - loss: 0.5580 - accuracy: 0.8546 - val_loss: 1.0898 - val_accuracy: 0.7384 - lr: 1.2500e-04\n",
            "Epoch 49/50\n",
            "56/56 [==============================] - 1s 22ms/step - loss: 0.5407 - accuracy: 0.8610 - val_loss: 1.0629 - val_accuracy: 0.7546 - lr: 6.2500e-05\n",
            "Epoch 50/50\n",
            "56/56 [==============================] - 1s 24ms/step - loss: 0.5226 - accuracy: 0.8658 - val_loss: 1.0505 - val_accuracy: 0.7430 - lr: 6.2500e-05\n"
          ]
        }
      ]
    },
    {
      "cell_type": "code",
      "source": [
        "# Plotting accuracy trajectory\n",
        "plt.plot(CNN_Transformer_Hybrid_results.history['accuracy'])\n",
        "plt.plot(CNN_Transformer_Hybrid_results.history['val_accuracy'])\n",
        "plt.title('CNN and Transformer hybird model accuracy trajectory')\n",
        "plt.ylabel('accuracy')\n",
        "plt.xlabel('epoch')\n",
        "plt.legend(['train', 'val'], loc='upper left')\n",
        "plt.show()\n",
        "\n",
        "# Plotting loss trajectory\n",
        "plt.plot(CNN_Transformer_Hybrid_results.history['loss'],'o')\n",
        "plt.plot(CNN_Transformer_Hybrid_results.history['val_loss'],'o')\n",
        "plt.title('CNN and Transformer hybird model loss trajectory')\n",
        "plt.ylabel('loss')\n",
        "plt.xlabel('epoch')\n",
        "plt.legend(['train', 'val'], loc='upper left')\n",
        "plt.show()"
      ],
      "metadata": {
        "id": "wKC5DlSU-uFG",
        "colab": {
          "base_uri": "https://localhost:8080/",
          "height": 573
        },
        "outputId": "e82f79a8-e4da-4f9e-f722-655170d29f18"
      },
      "execution_count": null,
      "outputs": [
        {
          "output_type": "display_data",
          "data": {
            "text/plain": [
              "<Figure size 432x288 with 1 Axes>"
            ],
            "image/png": "[encoded data removed]"
          },
          "metadata": {
            "needs_background": "light"
          }
        },
        {
          "output_type": "display_data",
          "data": {
            "text/plain": [
              "<Figure size 432x288 with 1 Axes>"
            ],
            "image/png": "[encoded data removed]"
          },
          "metadata": {
            "needs_background": "light"
          }
        }
      ]
    },
    {
      "cell_type": "markdown",
      "source": [
        "# Test set Predictions"
      ],
      "metadata": {
        "id": "p5ilEFxN29yu"
      }
    },
    {
      "cell_type": "code",
      "source": [
        "import time\n",
        "start_time = time.time() \n",
        "\n",
        "# Testing the CNN and Transformer Hybrid model\n",
        "CNN_Transformer_Hybrid_score = CNN_Transformer_Hybrid.evaluate(X_y_test, verbose=0)\n",
        "\n",
        "end_time = time.time()\n",
        "total_time = end_time - start_time\n",
        "print('Test accuracy of the CNN and Transformer hybird model:',CNN_Transformer_Hybrid_score[1])\n",
        "\n",
        "print(\"Total running time: {:.2f} seconds\".format(total_time))"
      ],
      "metadata": {
        "id": "ofzG3F-Q-2W-",
        "colab": {
          "base_uri": "https://localhost:8080/"
        },
        "outputId": "8bc3436d-c872-477f-ce65-7d3e90cbbe48"
      },
      "execution_count": null,
      "outputs": [
        {
          "output_type": "stream",
          "name": "stdout",
          "text": [
            "Test accuracy of the CNN and Transformer hybird model: 0.7025959491729736\n",
            "Total running time: 0.33 seconds\n"
          ]
        }
      ]
    },
    {
      "cell_type": "markdown",
      "source": [
        "# Accuracy score for special subjects"
      ],
      "metadata": {
        "id": "6vzjVCAFqfBl"
      }
    },
    {
      "cell_type": "code",
      "source": [
        "def preson_data_prep(person):\n",
        "    \n",
        "    total_person = None\n",
        "\n",
        "    total_person = np.vstack((person, person, person, person))\n",
        "    \n",
        "    return total_person\n",
        "\n",
        "person_test_prep = preson_data_prep(person_test)\n",
        "\n",
        "print(f'Testing target shape after Preprocessing: {person_test_prep.shape}')"
      ],
      "metadata": {
        "colab": {
          "base_uri": "https://localhost:8080/"
        },
        "id": "WF22ZY74qijH",
        "outputId": "3650bbeb-6265-400b-97d9-451c6e91ab43"
      },
      "execution_count": null,
      "outputs": [
        {
          "output_type": "stream",
          "name": "stdout",
          "text": [
            "Testing target shape after Preprocessing: (1772, 1)\n"
          ]
        }
      ]
    },
    {
      "cell_type": "code",
      "source": [
        "idx_sub1 = np.where(person_test_prep==0)[0]\n",
        "idx_sub2 = np.where(person_test_prep==1)[0]\n",
        "idx_sub3 = np.where(person_test_prep==2)[0]\n",
        "idx_sub4 = np.where(person_test_prep==3)[0]\n",
        "idx_sub5 = np.where(person_test_prep==4)[0]\n",
        "idx_sub6 = np.where(person_test_prep==5)[0]\n",
        "idx_sub7 = np.where(person_test_prep==6)[0]\n",
        "idx_sub8 = np.where(person_test_prep==7)[0]\n",
        "idx_sub9 = np.where(person_test_prep==8)[0]"
      ],
      "metadata": {
        "id": "XG-eU65Uqmor"
      },
      "execution_count": null,
      "outputs": []
    },
    {
      "cell_type": "code",
      "source": [
        "print('Optimizing for all subjects:')\n",
        "print('Subject 1:')\n",
        "sub1 = CNN_Transformer_Hybrid.evaluate(X_test_transpose[idx_sub1], y_test_ready[idx_sub1], verbose=0)\n",
        "print(f'Test accuracy of the basic CNN model on subject 1: {sub1[1]}')\n",
        "print('Subject 2:')\n",
        "sub2 = CNN_Transformer_Hybrid.evaluate(X_test_transpose[idx_sub2], y_test_ready[idx_sub2], verbose=0)\n",
        "print(f'Test accuracy of the basic CNN model on subject 2: {sub2[1]}')\n",
        "print('Subject 3:')\n",
        "sub3= CNN_Transformer_Hybrid.evaluate(X_test_transpose[idx_sub3], y_test_ready[idx_sub3], verbose=0)\n",
        "print(f'Test accuracy of the basic CNN model on subject 3: {sub3[1]}')\n",
        "print('Subject 4:')\n",
        "sub4= CNN_Transformer_Hybrid.evaluate(X_test_transpose[idx_sub4], y_test_ready[idx_sub4], verbose=0)\n",
        "print(f'Test accuracy of the basic CNN model on subject 4: {sub4[1]}')\n",
        "print('Subject 5:')\n",
        "sub5 = CNN_Transformer_Hybrid.evaluate(X_test_transpose[idx_sub5], y_test_ready[idx_sub5], verbose=0)\n",
        "print(f'Test accuracy of the basic CNN model on subject 5: {sub5[1]}')\n",
        "print('Subject 6:')\n",
        "sub6 = CNN_Transformer_Hybrid.evaluate(X_test_transpose[idx_sub6], y_test_ready[idx_sub6], verbose=0)\n",
        "print(f'Test accuracy of the basic CNN model on subject 6: {sub6[1]}')\n",
        "print('Subject 7:')\n",
        "sub7 = CNN_Transformer_Hybrid.evaluate(X_test_transpose[idx_sub7], y_test_ready[idx_sub7], verbose=0)\n",
        "print(f'Test accuracy of the basic CNN model on subject 7: {sub7[1]}')\n",
        "print('Subject 8:')\n",
        "sub8 = CNN_Transformer_Hybrid.evaluate(X_test_transpose[idx_sub8], y_test_ready[idx_sub8], verbose=0)\n",
        "print(f'Test accuracy of the basic CNN model on subject 8: {sub8[1]}')\n",
        "print('Subject 9:')\n",
        "sub9 = CNN_Transformer_Hybrid.evaluate(X_test_transpose[idx_sub9], y_test_ready[idx_sub9], verbose=0)\n",
        "print(f'Test accuracy of the basic CNN model on subject 9: {sub9[1]}')"
      ],
      "metadata": {
        "colab": {
          "base_uri": "https://localhost:8080/"
        },
        "id": "Ky8roZhQqolb",
        "outputId": "7fdf1b2b-f6ea-4bda-9ba6-03af813fe07a"
      },
      "execution_count": null,
      "outputs": [
        {
          "output_type": "stream",
          "name": "stdout",
          "text": [
            "Optimizing for all subjects:\n",
            "Subject 1:\n",
            "Test accuracy of the basic CNN model on subject 1: 0.7250000238418579\n",
            "Subject 2:\n",
            "Test accuracy of the basic CNN model on subject 2: 0.5799999833106995\n",
            "Subject 3:\n",
            "Test accuracy of the basic CNN model on subject 3: 0.7450000047683716\n",
            "Subject 4:\n",
            "Test accuracy of the basic CNN model on subject 4: 0.699999988079071\n",
            "Subject 5:\n",
            "Test accuracy of the basic CNN model on subject 5: 0.75\n",
            "Subject 6:\n",
            "Test accuracy of the basic CNN model on subject 6: 0.6224489808082581\n",
            "Subject 7:\n",
            "Test accuracy of the basic CNN model on subject 7: 0.7950000166893005\n",
            "Subject 8:\n",
            "Test accuracy of the basic CNN model on subject 8: 0.675000011920929\n",
            "Subject 9:\n",
            "Test accuracy of the basic CNN model on subject 9: 0.7340425252914429\n"
          ]
        }
      ]
    },
    {
      "cell_type": "code",
      "source": [
        "subject_labels = ['Subject1','Subject2','Subject3','Subject4','Subject5','Subject6','Subject7','Subject8','Subject9',]\n",
        "all_optimization_accuracies = [sub1[1],sub2[1],sub3[1],sub4[1],sub5[1],sub6[1],sub7[1],sub8[1],sub9[1]]\n",
        "\n",
        "ax = plt.figure().add_axes([0,0,1,1])\n",
        "print('Optimizing for all subjects:')\n",
        "ax.bar(subject_labels,all_optimization_accuracies)\n",
        "plt.show()"
      ],
      "metadata": {
        "colab": {
          "base_uri": "https://localhost:8080/",
          "height": 354
        },
        "id": "mAJssgeLqsBi",
        "outputId": "2c481ce3-c2c7-45e3-e405-a946b5ab5956"
      },
      "execution_count": null,
      "outputs": [
        {
          "output_type": "stream",
          "name": "stdout",
          "text": [
            "Optimizing for all subjects:\n"
          ]
        },
        {
          "output_type": "display_data",
          "data": {
            "text/plain": [
              "<Figure size 432x288 with 1 Axes>"
            ],
            "image/png": "[encoded data removed]"
          },
          "metadata": {
            "needs_background": "light"
          }
        }
      ]
    }
  ],
  "metadata": {
    "kernelspec": {
      "display_name": "Python 3",
      "name": "python3"
    },
    "language_info": {
      "name": "python"
    },
    "colab": {
      "provenance": []
    },
    "accelerator": "GPU",
    "gpuClass": "standard"
  },
  "nbformat": 4,
  "nbformat_minor": 0
}